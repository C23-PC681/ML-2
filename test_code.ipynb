{
 "cells": [
  {
   "cell_type": "code",
   "execution_count": 16,
   "metadata": {},
   "outputs": [],
   "source": [
    "import numpy as np\n",
    "from tensorflow.keras.preprocessing.image import ImageDataGenerator\n",
    "import tensorflow as tf\n",
    "import os\n",
    "import cv2\n",
    "from sklearn.model_selection import train_test_split\n",
    "from keras.utils import to_categorical\n",
    "from keras.models import Sequential\n",
    "from keras.layers import Conv2D, MaxPooling2D, Flatten, Dense, Dropout"
   ]
  },
  {
   "cell_type": "code",
   "execution_count": 3,
   "metadata": {},
   "outputs": [],
   "source": [
    "data_dir = '../capstone/imagedata' # call data directory\n",
    "classes = os.listdir(data_dir)\n",
    "\n",
    "height = 128 # image height\n",
    "width = 128 # image width\n",
    "\n",
    "with open('workout_label.txt', 'w') as f:\n",
    "    for workout_class in classes:\n",
    "        f.write(f'{workout_class}\\n')\n",
    "\n",
    "data = []\n",
    "labels = []   \n",
    "\n",
    "for dirname, _, filenames in os.walk(data_dir):\n",
    "    data_class = dirname.split(os.path.sep)[-1]\n",
    "    for filename in filenames:\n",
    "        img_path = os.path.join(dirname, filename)\n",
    "        \n",
    "        image = cv2.imread(img_path)\n",
    "        image = cv2.cvtColor(image, cv2.COLOR_BGR2RGB)\n",
    "        image = cv2.resize(image, (height , width))\n",
    "        \n",
    "        data.append(image)\n",
    "        labels.append(classes.index(data_class))\n",
    "        \n",
    "data = np.array(data)\n",
    "labels = np.array(labels)\n",
    "\n",
    "labels = to_categorical(labels)"
   ]
  },
  {
   "cell_type": "code",
   "execution_count": 4,
   "metadata": {},
   "outputs": [],
   "source": [
    "X_train, X_test, y_train, y_test = train_test_split(data, labels, test_size=0.1, random_state=42)"
   ]
  },
  {
   "cell_type": "code",
   "execution_count": 5,
   "metadata": {},
   "outputs": [
    {
     "name": "stdout",
     "output_type": "stream",
     "text": [
      "Total training images: 12467\n"
     ]
    }
   ],
   "source": [
    "num_training_images = len(X_train)\n",
    "print(\"Total training images:\", num_training_images)"
   ]
  },
  {
   "cell_type": "code",
   "execution_count": 6,
   "metadata": {},
   "outputs": [
    {
     "name": "stdout",
     "output_type": "stream",
     "text": [
      "Total test images: 1386\n"
     ]
    }
   ],
   "source": [
    "num_test_images = len(X_test)\n",
    "print(\"Total test images:\", num_test_images)"
   ]
  },
  {
   "cell_type": "code",
   "execution_count": 7,
   "metadata": {},
   "outputs": [],
   "source": [
    "train_data = ImageDataGenerator(\n",
    "    rescale = 1./255,\n",
    "    rotation_range = 40,\n",
    "    zoom_range = 0.2,\n",
    "    width_shift_range = 0.2,\n",
    "    height_shift_range = 0.2,\n",
    "    shear_range = 0.2,\n",
    "    horizontal_flip = True,\n",
    "    fill_mode = 'nearest'\n",
    ")\n",
    "\n",
    "train_data.fit(X_train)\n",
    "\n",
    "test_data = ImageDataGenerator(rescale = 1./255)\n",
    "\n",
    "test_data.fit(X_test)"
   ]
  },
  {
   "cell_type": "code",
   "execution_count": 40,
   "metadata": {},
   "outputs": [],
   "source": [
    "def create_model():\n",
    "    model = tf.keras.models.Sequential()\n",
    "    model.add(Conv2D(32, kernel_size=(3, 3), activation='relu', padding='same', input_shape=(width, height, 3)))\n",
    "    model.add(MaxPooling2D(pool_size=(2, 2)))\n",
    "    model.add(Dropout(0.2))\n",
    "    model.add(Conv2D(64, kernel_size=(3, 3), activation='relu'))\n",
    "    model.add(MaxPooling2D(pool_size=(2, 2)))\n",
    "    model.add(Dropout(0.25))\n",
    "    model.add(Flatten())\n",
    "    model.add(Dense(128, activation = 'relu'))\n",
    "    model.add(Dropout(0.5))\n",
    "    model.add(Dense(len(classes), activation = 'softmax'))\n",
    "    model.summary()\n",
    "    return model"
   ]
  },
  {
   "cell_type": "code",
   "execution_count": 41,
   "metadata": {},
   "outputs": [
    {
     "name": "stdout",
     "output_type": "stream",
     "text": [
      "Model: \"sequential_12\"\n",
      "_________________________________________________________________\n",
      " Layer (type)                Output Shape              Param #   \n",
      "=================================================================\n",
      " conv2d_24 (Conv2D)          (None, 128, 128, 32)      896       \n",
      "                                                                 \n",
      " max_pooling2d_11 (MaxPoolin  (None, 64, 64, 32)       0         \n",
      " g2D)                                                            \n",
      "                                                                 \n",
      " dropout_8 (Dropout)         (None, 64, 64, 32)        0         \n",
      "                                                                 \n",
      " conv2d_25 (Conv2D)          (None, 62, 62, 64)        18496     \n",
      "                                                                 \n",
      " max_pooling2d_12 (MaxPoolin  (None, 31, 31, 64)       0         \n",
      " g2D)                                                            \n",
      "                                                                 \n",
      " dropout_9 (Dropout)         (None, 31, 31, 64)        0         \n",
      "                                                                 \n",
      " flatten_12 (Flatten)        (None, 61504)             0         \n",
      "                                                                 \n",
      " dense_36 (Dense)            (None, 128)               7872640   \n",
      "                                                                 \n",
      " dropout_10 (Dropout)        (None, 128)               0         \n",
      "                                                                 \n",
      " dense_37 (Dense)            (None, 22)                2838      \n",
      "                                                                 \n",
      "=================================================================\n",
      "Total params: 7,894,870\n",
      "Trainable params: 7,894,870\n",
      "Non-trainable params: 0\n",
      "_________________________________________________________________\n"
     ]
    },
    {
     "data": {
      "text/plain": [
       "<keras.engine.sequential.Sequential at 0x189741b4988>"
      ]
     },
     "execution_count": 41,
     "metadata": {},
     "output_type": "execute_result"
    }
   ],
   "source": [
    "workout_model = create_model()\n",
    "workout_model"
   ]
  },
  {
   "cell_type": "code",
   "execution_count": 44,
   "metadata": {},
   "outputs": [
    {
     "name": "stdout",
     "output_type": "stream",
     "text": [
      "Epoch 1/30\n",
      "98/98 [==============================] - 136s 1s/step - loss: 0.7050 - accuracy: 0.7942 - val_loss: 0.3764 - val_accuracy: 0.9170\n",
      "Epoch 2/30\n",
      "98/98 [==============================] - 146s 1s/step - loss: 0.6409 - accuracy: 0.8093 - val_loss: 0.3738 - val_accuracy: 0.9250\n",
      "Epoch 3/30\n",
      "98/98 [==============================] - 139s 1s/step - loss: 0.5405 - accuracy: 0.8309 - val_loss: 0.3180 - val_accuracy: 0.9307\n",
      "Epoch 4/30\n",
      "98/98 [==============================] - 137s 1s/step - loss: 0.4643 - accuracy: 0.8491 - val_loss: 0.2964 - val_accuracy: 0.9358\n",
      "Epoch 5/30\n",
      "98/98 [==============================] - 160s 2s/step - loss: 0.4458 - accuracy: 0.8624 - val_loss: 0.2795 - val_accuracy: 0.9408\n",
      "Epoch 6/30\n",
      "98/98 [==============================] - 161s 2s/step - loss: 0.4246 - accuracy: 0.8675 - val_loss: 0.2949 - val_accuracy: 0.9343\n",
      "Epoch 7/30\n",
      "98/98 [==============================] - 158s 2s/step - loss: 0.3941 - accuracy: 0.8743 - val_loss: 0.2989 - val_accuracy: 0.9430\n",
      "Epoch 8/30\n",
      "98/98 [==============================] - 150s 2s/step - loss: 0.3634 - accuracy: 0.8814 - val_loss: 0.2960 - val_accuracy: 0.9452\n",
      "Epoch 9/30\n",
      "98/98 [==============================] - 153s 2s/step - loss: 0.3525 - accuracy: 0.8883 - val_loss: 0.2529 - val_accuracy: 0.9444\n",
      "Epoch 10/30\n",
      "98/98 [==============================] - 156s 2s/step - loss: 0.3307 - accuracy: 0.8936 - val_loss: 0.2735 - val_accuracy: 0.9459\n",
      "Epoch 11/30\n",
      "98/98 [==============================] - 167s 2s/step - loss: 0.3243 - accuracy: 0.8936 - val_loss: 0.2825 - val_accuracy: 0.9452\n",
      "Epoch 12/30\n",
      "98/98 [==============================] - 156s 2s/step - loss: 0.2936 - accuracy: 0.9043 - val_loss: 0.2552 - val_accuracy: 0.9488\n",
      "Epoch 13/30\n",
      "98/98 [==============================] - 158s 2s/step - loss: 0.2917 - accuracy: 0.9021 - val_loss: 0.2811 - val_accuracy: 0.9466\n",
      "Epoch 14/30\n",
      "98/98 [==============================] - 184s 2s/step - loss: 0.2842 - accuracy: 0.9106 - val_loss: 0.2735 - val_accuracy: 0.9524\n",
      "Epoch 15/30\n",
      "98/98 [==============================] - 161s 2s/step - loss: 0.2602 - accuracy: 0.9138 - val_loss: 0.2754 - val_accuracy: 0.9509\n",
      "Epoch 16/30\n",
      "98/98 [==============================] - 149s 2s/step - loss: 0.2505 - accuracy: 0.9161 - val_loss: 0.2916 - val_accuracy: 0.9473\n",
      "Epoch 17/30\n",
      "98/98 [==============================] - 166s 2s/step - loss: 0.3565 - accuracy: 0.8920 - val_loss: 0.3749 - val_accuracy: 0.9444\n",
      "Epoch 18/30\n",
      "98/98 [==============================] - 145s 1s/step - loss: 0.3017 - accuracy: 0.9060 - val_loss: 0.2794 - val_accuracy: 0.9466\n",
      "Epoch 19/30\n",
      "98/98 [==============================] - 158s 2s/step - loss: 0.2489 - accuracy: 0.9192 - val_loss: 0.2916 - val_accuracy: 0.9466\n",
      "Epoch 20/30\n",
      "98/98 [==============================] - 158s 2s/step - loss: 0.2421 - accuracy: 0.9243 - val_loss: 0.2806 - val_accuracy: 0.9538\n",
      "Epoch 21/30\n",
      "98/98 [==============================] - 152s 2s/step - loss: 0.2239 - accuracy: 0.9270 - val_loss: 0.2515 - val_accuracy: 0.9473\n",
      "Epoch 22/30\n",
      "98/98 [==============================] - 158s 2s/step - loss: 0.2151 - accuracy: 0.9268 - val_loss: 0.2522 - val_accuracy: 0.9531\n",
      "Epoch 23/30\n",
      "98/98 [==============================] - 162s 2s/step - loss: 0.2100 - accuracy: 0.9282 - val_loss: 0.2561 - val_accuracy: 0.9509\n",
      "Epoch 24/30\n",
      "98/98 [==============================] - 161s 2s/step - loss: 0.2122 - accuracy: 0.9299 - val_loss: 0.2610 - val_accuracy: 0.9502\n",
      "Epoch 25/30\n",
      "98/98 [==============================] - 160s 2s/step - loss: 0.1888 - accuracy: 0.9376 - val_loss: 0.2420 - val_accuracy: 0.9524\n",
      "Epoch 26/30\n",
      "98/98 [==============================] - 147s 1s/step - loss: 0.1958 - accuracy: 0.9366 - val_loss: 0.2632 - val_accuracy: 0.9538\n",
      "Epoch 27/30\n",
      "98/98 [==============================] - 146s 1s/step - loss: 0.1748 - accuracy: 0.9406 - val_loss: 0.2730 - val_accuracy: 0.9502\n",
      "Epoch 28/30\n",
      "98/98 [==============================] - 156s 2s/step - loss: 0.1741 - accuracy: 0.9402 - val_loss: 0.2516 - val_accuracy: 0.9538\n",
      "Epoch 29/30\n",
      "98/98 [==============================] - 150s 2s/step - loss: 0.1752 - accuracy: 0.9436 - val_loss: 0.2459 - val_accuracy: 0.9545\n",
      "Epoch 30/30\n",
      "98/98 [==============================] - 153s 2s/step - loss: 0.1864 - accuracy: 0.9389 - val_loss: 0.2673 - val_accuracy: 0.9495\n"
     ]
    },
    {
     "data": {
      "text/plain": [
       "<keras.callbacks.History at 0x189744c4d08>"
      ]
     },
     "execution_count": 44,
     "metadata": {},
     "output_type": "execute_result"
    }
   ],
   "source": [
    "workout_model.compile(optimizer='adam', loss='categorical_crossentropy', metrics=['accuracy'])\n",
    "workout_model.fit(X_train, y_train, epochs=30, batch_size=128, validation_data=(X_test, y_test))\n"
   ]
  },
  {
   "cell_type": "code",
   "execution_count": 45,
   "metadata": {},
   "outputs": [
    {
     "name": "stdout",
     "output_type": "stream",
     "text": [
      "44/44 [==============================] - 2s 56ms/step - loss: 0.2673 - accuracy: 0.9495\n",
      "Loss:  0.26725471019744873\n",
      "Accuracy:  0.9494949579238892\n"
     ]
    }
   ],
   "source": [
    "loss, accuracy = workout_model.evaluate(X_test, y_test)\n",
    "print(\"Loss: \", loss)\n",
    "print(\"Accuracy: \", accuracy)"
   ]
  },
  {
   "cell_type": "code",
   "execution_count": 46,
   "metadata": {},
   "outputs": [
    {
     "name": "stderr",
     "output_type": "stream",
     "text": [
      "WARNING:absl:Found untraced functions such as _jit_compiled_convolution_op, _jit_compiled_convolution_op, _update_step_xla while saving (showing 3 of 3). These functions will not be directly callable after loading.\n"
     ]
    },
    {
     "name": "stdout",
     "output_type": "stream",
     "text": [
      "INFO:tensorflow:Assets written to: workout_model\\assets\n"
     ]
    },
    {
     "name": "stderr",
     "output_type": "stream",
     "text": [
      "INFO:tensorflow:Assets written to: workout_model\\assets\n"
     ]
    }
   ],
   "source": [
    "workout_model.save('workout_model')\n",
    "\n",
    "converter = tf.lite.TFLiteConverter.from_saved_model('./workout_model')\n",
    "tflite_model = converter.convert()\n",
    "\n",
    "with open('workout_model.tflite', 'wb') as f:\n",
    "    f.write(tflite_model)"
   ]
  }
 ],
 "metadata": {
  "kernelspec": {
   "display_name": "computervision",
   "language": "python",
   "name": "python3"
  },
  "language_info": {
   "codemirror_mode": {
    "name": "ipython",
    "version": 3
   },
   "file_extension": ".py",
   "mimetype": "text/x-python",
   "name": "python",
   "nbconvert_exporter": "python",
   "pygments_lexer": "ipython3",
   "version": "3.7.16"
  },
  "orig_nbformat": 4
 },
 "nbformat": 4,
 "nbformat_minor": 2
}
